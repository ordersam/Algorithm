{
 "cells": [
  {
   "cell_type": "code",
   "execution_count": 2,
   "metadata": {},
   "outputs": [
    {
     "name": "stdout",
     "output_type": "stream",
     "text": [
      "排序前： 3 5 2 1 \n",
      "排序後： 1 2 3 5 \n",
      "排序後： 1 2 3 5 \n"
     ]
    }
   ],
   "source": [
    "# 列印元素\n",
    "def disp_data():\n",
    "    for item in datas:\n",
    "        print(item, end=\" \")\n",
    "    print()\n",
    "# 資料\n",
    "datas = [3, 5, 2, 1]  \n",
    "print(\"排序前：\", end=\" \")\n",
    "disp_data()\n",
    "\n",
    "# 泡沫排序(由小到大) for loop\n",
    "n = len(datas) - 1\n",
    "# i代表 幾個泡泡(最大值)浮現，最多只要 元素個數-1個泡泡 第一個自動變最小值\n",
    "for i in range(0, n):\n",
    "    # j代表第一個數值的index，要和j+1比較，所以要扣掉已經有的泡泡再減一\n",
    "    for j in range(0, n-i):\n",
    "        if (datas[j] > datas[j+1]):\n",
    "            datas[j], datas[j+1] = datas[j+1], datas[j]\n",
    "print(\"排序後：\", end=\" \")  \n",
    "disp_data()\n",
    "\n",
    "# 泡沫排序(由小到大) while loop\n",
    "n = len(datas) - 1\n",
    "i = 0\n",
    "while i < n:\n",
    "    for j in range(0, n-i):\n",
    "        if (datas[j] > datas[j+1]):\n",
    "            datas[j], datas[j+1] = datas[j+1], datas[j]\n",
    "    i += 1\n",
    "print(\"排序後：\", end=\" \")  \n",
    "disp_data()"
   ]
  }
 ],
 "metadata": {
  "kernelspec": {
   "display_name": "Python 3",
   "language": "python",
   "name": "python3"
  },
  "language_info": {
   "codemirror_mode": {
    "name": "ipython",
    "version": 3
   },
   "file_extension": ".py",
   "mimetype": "text/x-python",
   "name": "python",
   "nbconvert_exporter": "python",
   "pygments_lexer": "ipython3",
   "version": "3.7.6"
  }
 },
 "nbformat": 4,
 "nbformat_minor": 2
}
